{
 "cells": [
  {
   "cell_type": "markdown",
   "id": "46152bd4",
   "metadata": {},
   "source": [
    "# Homework 1\n",
    "## Data Analysis\n",
    "### FINM August Review \n",
    "\n",
    "Mark Hendricks\n",
    "\n",
    "hendricks@uchicago.edu"
   ]
  },
  {
   "cell_type": "markdown",
   "id": "5cc87187",
   "metadata": {},
   "source": [
    "#### Data\n",
    "\n",
    "- This homework uses the file, “hw 1 data.xlsx”.\n",
    "- Find the data in the Github repo associated with the module, (link on Canvas.)\n",
    "\n",
    "The data file contains...\n",
    "- Return rates, $r^i_t$, for various asset classes, (via ETFs.)\n",
    "- Most notable among these securities is SPY, the return on the S&P 500. Denote this as $r^{spy}_t$\n",
    "- A separate tab gives return rates for a particular portfolio, $r^p_t$"
   ]
  },
  {
   "cell_type": "markdown",
   "id": "2291d8d1",
   "metadata": {},
   "source": [
    "## 1. Regression"
   ]
  },
  {
   "cell_type": "markdown",
   "id": "7d09b606",
   "metadata": {},
   "source": [
    "1. Estimate the regression of the portfolio return on SPY:\n",
    "$$r^p_t = \\alpha + \\beta^{spy} r^{spy}_t + \\epsilon^{spy}_t$$\n",
    "Specifically, report alpha, beta, and the r-squared."
   ]
  },
  {
   "cell_type": "code",
   "execution_count": 1,
   "id": "d68d125e",
   "metadata": {},
   "outputs": [],
   "source": [
    "import pandas as pd\n",
    "import numpy as np\n",
    "import matplotlib.pyplot as plt\n",
    "import seaborn as sns\n",
    "import statsmodels.api as sm\n",
    "r_p = pd.read_excel(r'../data/hw_1_data.xlsx', sheet_name='portfolio returns').set_index('Date')\n",
    "r_i = pd.read_excel(r'../data/hw_1_data.xlsx', sheet_name='security returns').set_index('Date')\n"
   ]
  },
  {
   "cell_type": "markdown",
   "id": "f0057c93",
   "metadata": {},
   "source": [
    "1/ create the function display associated to this class\n",
    "which will display all the features of this class.\n",
    "example:\n",
    "you need to print:\n",
    "order(buy,10,100)\n",
    "\n",
    "The name of this function is called \"display\""
   ]
  },
  {
   "cell_type": "code",
   "execution_count": 44,
   "id": "58296fcc",
   "metadata": {},
   "outputs": [
    {
     "data": {
      "text/html": [
       "<table class=\"simpletable\">\n",
       "<caption>OLS Regression Results</caption>\n",
       "<tr>\n",
       "  <th>Dep. Variable:</th>        <td>portfolio</td>    <th>  R-squared:         </th> <td>   0.745</td>\n",
       "</tr>\n",
       "<tr>\n",
       "  <th>Model:</th>                   <td>OLS</td>       <th>  Adj. R-squared:    </th> <td>   0.743</td>\n",
       "</tr>\n",
       "<tr>\n",
       "  <th>Method:</th>             <td>Least Squares</td>  <th>  F-statistic:       </th> <td>   455.5</td>\n",
       "</tr>\n",
       "<tr>\n",
       "  <th>Date:</th>             <td>Wed, 31 Aug 2022</td> <th>  Prob (F-statistic):</th> <td>3.93e-48</td>\n",
       "</tr>\n",
       "<tr>\n",
       "  <th>Time:</th>                 <td>00:00:47</td>     <th>  Log-Likelihood:    </th> <td>  443.21</td>\n",
       "</tr>\n",
       "<tr>\n",
       "  <th>No. Observations:</th>      <td>   158</td>      <th>  AIC:               </th> <td>  -882.4</td>\n",
       "</tr>\n",
       "<tr>\n",
       "  <th>Df Residuals:</th>          <td>   156</td>      <th>  BIC:               </th> <td>  -876.3</td>\n",
       "</tr>\n",
       "<tr>\n",
       "  <th>Df Model:</th>              <td>     1</td>      <th>                     </th>     <td> </td>   \n",
       "</tr>\n",
       "<tr>\n",
       "  <th>Covariance Type:</th>      <td>nonrobust</td>    <th>                     </th>     <td> </td>   \n",
       "</tr>\n",
       "</table>\n",
       "<table class=\"simpletable\">\n",
       "<tr>\n",
       "    <td></td>       <th>coef</th>     <th>std err</th>      <th>t</th>      <th>P>|t|</th>  <th>[0.025</th>    <th>0.975]</th>  \n",
       "</tr>\n",
       "<tr>\n",
       "  <th>const</th> <td>   -0.0006</td> <td>    0.001</td> <td>   -0.479</td> <td> 0.633</td> <td>   -0.003</td> <td>    0.002</td>\n",
       "</tr>\n",
       "<tr>\n",
       "  <th>SPY</th>   <td>    0.6142</td> <td>    0.029</td> <td>   21.342</td> <td> 0.000</td> <td>    0.557</td> <td>    0.671</td>\n",
       "</tr>\n",
       "</table>\n",
       "<table class=\"simpletable\">\n",
       "<tr>\n",
       "  <th>Omnibus:</th>       <td>21.658</td> <th>  Durbin-Watson:     </th> <td>   1.946</td>\n",
       "</tr>\n",
       "<tr>\n",
       "  <th>Prob(Omnibus):</th> <td> 0.000</td> <th>  Jarque-Bera (JB):  </th> <td>  65.437</td>\n",
       "</tr>\n",
       "<tr>\n",
       "  <th>Skew:</th>          <td> 0.448</td> <th>  Prob(JB):          </th> <td>6.17e-15</td>\n",
       "</tr>\n",
       "<tr>\n",
       "  <th>Kurtosis:</th>      <td> 6.023</td> <th>  Cond. No.          </th> <td>    24.6</td>\n",
       "</tr>\n",
       "</table><br/><br/>Notes:<br/>[1] Standard Errors assume that the covariance matrix of the errors is correctly specified."
      ],
      "text/plain": [
       "<class 'statsmodels.iolib.summary.Summary'>\n",
       "\"\"\"\n",
       "                            OLS Regression Results                            \n",
       "==============================================================================\n",
       "Dep. Variable:              portfolio   R-squared:                       0.745\n",
       "Model:                            OLS   Adj. R-squared:                  0.743\n",
       "Method:                 Least Squares   F-statistic:                     455.5\n",
       "Date:                Wed, 31 Aug 2022   Prob (F-statistic):           3.93e-48\n",
       "Time:                        00:00:47   Log-Likelihood:                 443.21\n",
       "No. Observations:                 158   AIC:                            -882.4\n",
       "Df Residuals:                     156   BIC:                            -876.3\n",
       "Df Model:                           1                                         \n",
       "Covariance Type:            nonrobust                                         \n",
       "==============================================================================\n",
       "                 coef    std err          t      P>|t|      [0.025      0.975]\n",
       "------------------------------------------------------------------------------\n",
       "const         -0.0006      0.001     -0.479      0.633      -0.003       0.002\n",
       "SPY            0.6142      0.029     21.342      0.000       0.557       0.671\n",
       "==============================================================================\n",
       "Omnibus:                       21.658   Durbin-Watson:                   1.946\n",
       "Prob(Omnibus):                  0.000   Jarque-Bera (JB):               65.437\n",
       "Skew:                           0.448   Prob(JB):                     6.17e-15\n",
       "Kurtosis:                       6.023   Cond. No.                         24.6\n",
       "==============================================================================\n",
       "\n",
       "Notes:\n",
       "[1] Standard Errors assume that the covariance matrix of the errors is correctly specified.\n",
       "\"\"\""
      ]
     },
     "execution_count": 44,
     "metadata": {},
     "output_type": "execute_result"
    }
   ],
   "source": [
    "X = sm.add_constant(r_i['SPY'])\n",
    "y = r_p['portfolio']\n",
    "\n",
    "estimation = sm.OLS(y,X,missing='drop').fit()\n",
    "estimation.summary()"
   ]
  },
  {
   "cell_type": "markdown",
   "id": "9d72ec07",
   "metadata": {},
   "source": [
    "2. Estimate the regression of the portfolio return on SPY and on HYG, the return on high-yield corporate bonds, denoted as $r^{hyg}_t$:\n",
    "$$r^p_t = \\tilde{\\alpha} + \\tilde{\\beta}^{spy} r^{spy}_t + \\tilde{\\beta}^{hyg}r^{hyg}_t + \\tilde{\\epsilon}_t$$\n",
    "Specifically, report alpha, beta, and the r-squared.\n",
    "Note that the ~ in (2) are just to clarify that these are different from the parameters in (1)."
   ]
  },
  {
   "cell_type": "code",
   "execution_count": 45,
   "id": "96f3b918",
   "metadata": {},
   "outputs": [
    {
     "data": {
      "text/html": [
       "<table class=\"simpletable\">\n",
       "<caption>OLS Regression Results</caption>\n",
       "<tr>\n",
       "  <th>Dep. Variable:</th>        <td>portfolio</td>    <th>  R-squared:         </th> <td>   0.832</td>\n",
       "</tr>\n",
       "<tr>\n",
       "  <th>Model:</th>                   <td>OLS</td>       <th>  Adj. R-squared:    </th> <td>   0.830</td>\n",
       "</tr>\n",
       "<tr>\n",
       "  <th>Method:</th>             <td>Least Squares</td>  <th>  F-statistic:       </th> <td>   384.2</td>\n",
       "</tr>\n",
       "<tr>\n",
       "  <th>Date:</th>             <td>Wed, 31 Aug 2022</td> <th>  Prob (F-statistic):</th> <td>8.57e-61</td>\n",
       "</tr>\n",
       "<tr>\n",
       "  <th>Time:</th>                 <td>00:00:53</td>     <th>  Log-Likelihood:    </th> <td>  476.28</td>\n",
       "</tr>\n",
       "<tr>\n",
       "  <th>No. Observations:</th>      <td>   158</td>      <th>  AIC:               </th> <td>  -946.6</td>\n",
       "</tr>\n",
       "<tr>\n",
       "  <th>Df Residuals:</th>          <td>   155</td>      <th>  BIC:               </th> <td>  -937.4</td>\n",
       "</tr>\n",
       "<tr>\n",
       "  <th>Df Model:</th>              <td>     2</td>      <th>                     </th>     <td> </td>   \n",
       "</tr>\n",
       "<tr>\n",
       "  <th>Covariance Type:</th>      <td>nonrobust</td>    <th>                     </th>     <td> </td>   \n",
       "</tr>\n",
       "</table>\n",
       "<table class=\"simpletable\">\n",
       "<tr>\n",
       "    <td></td>       <th>coef</th>     <th>std err</th>      <th>t</th>      <th>P>|t|</th>  <th>[0.025</th>    <th>0.975]</th>  \n",
       "</tr>\n",
       "<tr>\n",
       "  <th>const</th> <td>   -0.0009</td> <td>    0.001</td> <td>   -0.915</td> <td> 0.362</td> <td>   -0.003</td> <td>    0.001</td>\n",
       "</tr>\n",
       "<tr>\n",
       "  <th>SPY</th>   <td>    0.3843</td> <td>    0.035</td> <td>   11.072</td> <td> 0.000</td> <td>    0.316</td> <td>    0.453</td>\n",
       "</tr>\n",
       "<tr>\n",
       "  <th>HYG</th>   <td>    0.5166</td> <td>    0.058</td> <td>    8.977</td> <td> 0.000</td> <td>    0.403</td> <td>    0.630</td>\n",
       "</tr>\n",
       "</table>\n",
       "<table class=\"simpletable\">\n",
       "<tr>\n",
       "  <th>Omnibus:</th>       <td> 1.294</td> <th>  Durbin-Watson:     </th> <td>   2.246</td>\n",
       "</tr>\n",
       "<tr>\n",
       "  <th>Prob(Omnibus):</th> <td> 0.524</td> <th>  Jarque-Bera (JB):  </th> <td>   1.296</td>\n",
       "</tr>\n",
       "<tr>\n",
       "  <th>Skew:</th>          <td> 0.214</td> <th>  Prob(JB):          </th> <td>   0.523</td>\n",
       "</tr>\n",
       "<tr>\n",
       "  <th>Kurtosis:</th>      <td> 2.886</td> <th>  Cond. No.          </th> <td>    66.9</td>\n",
       "</tr>\n",
       "</table><br/><br/>Notes:<br/>[1] Standard Errors assume that the covariance matrix of the errors is correctly specified."
      ],
      "text/plain": [
       "<class 'statsmodels.iolib.summary.Summary'>\n",
       "\"\"\"\n",
       "                            OLS Regression Results                            \n",
       "==============================================================================\n",
       "Dep. Variable:              portfolio   R-squared:                       0.832\n",
       "Model:                            OLS   Adj. R-squared:                  0.830\n",
       "Method:                 Least Squares   F-statistic:                     384.2\n",
       "Date:                Wed, 31 Aug 2022   Prob (F-statistic):           8.57e-61\n",
       "Time:                        00:00:53   Log-Likelihood:                 476.28\n",
       "No. Observations:                 158   AIC:                            -946.6\n",
       "Df Residuals:                     155   BIC:                            -937.4\n",
       "Df Model:                           2                                         \n",
       "Covariance Type:            nonrobust                                         \n",
       "==============================================================================\n",
       "                 coef    std err          t      P>|t|      [0.025      0.975]\n",
       "------------------------------------------------------------------------------\n",
       "const         -0.0009      0.001     -0.915      0.362      -0.003       0.001\n",
       "SPY            0.3843      0.035     11.072      0.000       0.316       0.453\n",
       "HYG            0.5166      0.058      8.977      0.000       0.403       0.630\n",
       "==============================================================================\n",
       "Omnibus:                        1.294   Durbin-Watson:                   2.246\n",
       "Prob(Omnibus):                  0.524   Jarque-Bera (JB):                1.296\n",
       "Skew:                           0.214   Prob(JB):                        0.523\n",
       "Kurtosis:                       2.886   Cond. No.                         66.9\n",
       "==============================================================================\n",
       "\n",
       "Notes:\n",
       "[1] Standard Errors assume that the covariance matrix of the errors is correctly specified.\n",
       "\"\"\""
      ]
     },
     "execution_count": 45,
     "metadata": {},
     "output_type": "execute_result"
    }
   ],
   "source": [
    "X = sm.add_constant(r_i[['SPY','HYG']])\n",
    "y = r_p['portfolio']\n",
    "\n",
    "estimation_multi = sm.OLS(y,X).fit()\n",
    "estimation_multi.summary()"
   ]
  },
  {
   "cell_type": "markdown",
   "id": "0de50790",
   "metadata": {},
   "source": [
    "3. Calculate the time-series of fitted regression values:\n",
    "$$\\hat{r}^p_t = \\tilde{\\alpha} + \\tilde{\\beta}^{spy} r^{spy}_t + \\tilde{\\beta}^{hyg}r^{hyg}_t $$\n",
    "Your statistical package will output these fitted values for you, or you can construct them using the estimated parameters. What is the correlation between $\\hat{r}^p_t$ and $r^p_t$ ? How does that compare to the r-squared of the regression in (2)?"
   ]
  },
  {
   "cell_type": "code",
   "execution_count": 71,
   "metadata": {},
   "outputs": [
    {
     "name": "stdout",
     "output_type": "stream",
     "text": [
      "Correlation is -  0.8630624908276984\n",
      "R-square value is - 0.8321431637628092\n"
     ]
    }
   ],
   "source": [
    "print(\"Correlation is - \",r_p.corrwith(estimation.fittedvalues)[0])\n",
    "temp = r_p.corrwith(estimation_multi.fittedvalues)[0]\n",
    "print(\"R-square value is -\",temp**2)\n"
   ]
  },
  {
   "cell_type": "markdown",
   "id": "8262ae25",
   "metadata": {},
   "source": [
    "4. How do the SPY betas differ across (1) and (2), ($\\beta^{spy}$ vs $\\tilde{\\beta}^{spy}$)? How does this relate to the correlation between $r^{spy}_t$ and $r^{hyg}_t$?"
   ]
  },
  {
   "cell_type": "code",
   "execution_count": 57,
   "id": "68ef08d0",
   "metadata": {},
   "outputs": [
    {
     "data": {
      "text/plain": [
       "0.7380170112481027"
      ]
     },
     "execution_count": 57,
     "metadata": {},
     "output_type": "execute_result"
    }
   ],
   "source": [
    "#SPY beta in (2) is smaller than (1) as more of the variance is explained by HYG\n",
    "r_i['SPY'].corr(r_i['HYG'])"
   ]
  },
  {
   "cell_type": "markdown",
   "id": "e1e1c278",
   "metadata": {},
   "source": [
    "5. Without doing any calculation, would you expect $\\epsilon_t$ or $\\tilde{\\epsilon}_t$ to have higher correlation to $r^{hyg}_t$ ?"
   ]
  },
  {
   "cell_type": "code",
   "execution_count": 68,
   "id": "c24349a5",
   "metadata": {},
   "outputs": [
    {
     "name": "stdout",
     "output_type": "stream",
     "text": [
      "0.3946498277405792\n",
      "0.00\n"
     ]
    }
   ],
   "source": [
    "print(r_i['HYG'].corr(estimation.resid))\n",
    "print(f'{r_i[\"HYG\"].corr(estimation_multi.resid):.2f}')"
   ]
  },
  {
   "cell_type": "markdown",
   "id": "cd153b85",
   "metadata": {},
   "source": [
    "## 2. Decomposing and Replicating"
   ]
  },
  {
   "cell_type": "markdown",
   "id": "780ac04e",
   "metadata": {},
   "source": [
    "1. The portfolio return, $r^p_t$ , is a combination of the base assets that are provided here. Use linear regression to uncover which weights were used in constructing the portfolio.\n",
    "$$r^p_t = \\alpha + (\\beta^r)^′r_t + \\epsilon_t$$\n",
    "\n",
    "    where $r$ denotes the vector of returns for the individual securities\n",
    "    - What does the regression find were the original weights?\n",
    "    - How precise is the estimation? Consider the R-squared and t-stats.\n"
   ]
  },
  {
   "cell_type": "code",
   "execution_count": null,
   "id": "b6aff7b1",
   "metadata": {},
   "outputs": [],
   "source": []
  },
  {
   "cell_type": "markdown",
   "id": "9ea7d385",
   "metadata": {},
   "source": [
    "2. Suppose that we want to mimic TIP using the other securities. Run the following regression–but do so only using data through the end of 2018.\n",
    "\n",
    "$$r^{TIP}_t = \\alpha + (\\beta)^′r_t + \\epsilon_t$$\n",
    "    \n",
    "where $r$ denotes the vector of returns for the other securities, excluding TIP.\n",
    "- Report the r-squared and the estimate of the vector, $\\beta$.\n",
    "- Report the t-stats of the explanatory returns. Which have absolute value greater than 2?\n",
    "- Plot the returns of TIP along with the replication values."
   ]
  },
  {
   "cell_type": "markdown",
   "id": "57560db2",
   "metadata": {},
   "source": [
    "3. Perhaps the replication results in the previous problem are overstated given that they estimated the parameters within a sample and then evaluated how well the result fit in the same sample. This is known as in-sample fit. Using the estimates through 2018, (the α and β from the previous problem,) calculate the out-of-sample (OOS) values of the replication, using the 2019-2022 returns, denoted r^{oos}_t:\n",
    "$$\\hat{r}^{TIPoos}_t = (\\beta)^′r^{oos}_t$$\n",
    "\n",
    "    - What is the correlation between $\\hat{r}^{TIPoos}_t$ and $r^{oos}_t$ ?\n",
    "    - How does this compare to the $R^2$ from the regression above based on data through 2018?"
   ]
  }
 ],
 "metadata": {
  "hide_input": false,
  "kernelspec": {
   "display_name": "Python 3.9.7 ('base')",
   "language": "python",
   "name": "python3"
  },
  "language_info": {
   "codemirror_mode": {
    "name": "ipython",
    "version": 3
   },
   "file_extension": ".py",
   "mimetype": "text/x-python",
   "name": "python",
   "nbconvert_exporter": "python",
   "pygments_lexer": "ipython3",
   "version": "3.9.7"
  },
  "toc": {
   "base_numbering": 1,
   "nav_menu": {},
   "number_sections": true,
   "sideBar": true,
   "skip_h1_title": false,
   "title_cell": "Table of Contents",
   "title_sidebar": "Contents",
   "toc_cell": false,
   "toc_position": {},
   "toc_section_display": true,
   "toc_window_display": false
  },
  "varInspector": {
   "cols": {
    "lenName": 16,
    "lenType": 16,
    "lenVar": 40
   },
   "kernels_config": {
    "python": {
     "delete_cmd_postfix": "",
     "delete_cmd_prefix": "del ",
     "library": "var_list.py",
     "varRefreshCmd": "print(var_dic_list())"
    },
    "r": {
     "delete_cmd_postfix": ") ",
     "delete_cmd_prefix": "rm(",
     "library": "var_list.r",
     "varRefreshCmd": "cat(var_dic_list()) "
    }
   },
   "types_to_exclude": [
    "module",
    "function",
    "builtin_function_or_method",
    "instance",
    "_Feature"
   ],
   "window_display": false
  },
  "vscode": {
   "interpreter": {
    "hash": "5e62c483ecf48ad4e1bb5f903abeb626d4ffc56eab47e05d9eff835eeb907be7"
   }
  }
 },
 "nbformat": 4,
 "nbformat_minor": 5
}
